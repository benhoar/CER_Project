{
 "cells": [
  {
   "cell_type": "code",
   "execution_count": 13,
   "id": "78fe3f79",
   "metadata": {},
   "outputs": [
    {
     "data": {
      "text/html": [
       "<div>\n",
       "<style scoped>\n",
       "    .dataframe tbody tr th:only-of-type {\n",
       "        vertical-align: middle;\n",
       "    }\n",
       "\n",
       "    .dataframe tbody tr th {\n",
       "        vertical-align: top;\n",
       "    }\n",
       "\n",
       "    .dataframe thead th {\n",
       "        text-align: right;\n",
       "    }\n",
       "</style>\n",
       "<table border=\"1\" class=\"dataframe\">\n",
       "  <thead>\n",
       "    <tr style=\"text-align: right;\">\n",
       "      <th></th>\n",
       "      <th>E</th>\n",
       "      <th>FE</th>\n",
       "      <th>i</th>\n",
       "      <th>hco3</th>\n",
       "      <th>source</th>\n",
       "    </tr>\n",
       "  </thead>\n",
       "  <tbody>\n",
       "    <tr>\n",
       "      <th>0</th>\n",
       "      <td>-0.53</td>\n",
       "      <td>0.7913</td>\n",
       "      <td>0.413300</td>\n",
       "      <td>0.1</td>\n",
       "      <td>Jingyu</td>\n",
       "    </tr>\n",
       "    <tr>\n",
       "      <th>1</th>\n",
       "      <td>-0.62</td>\n",
       "      <td>0.8807</td>\n",
       "      <td>0.665581</td>\n",
       "      <td>0.1</td>\n",
       "      <td>Jingyu</td>\n",
       "    </tr>\n",
       "    <tr>\n",
       "      <th>2</th>\n",
       "      <td>-0.71</td>\n",
       "      <td>0.9438</td>\n",
       "      <td>1.028164</td>\n",
       "      <td>0.1</td>\n",
       "      <td>Jingyu</td>\n",
       "    </tr>\n",
       "    <tr>\n",
       "      <th>3</th>\n",
       "      <td>-0.82</td>\n",
       "      <td>0.8820</td>\n",
       "      <td>1.380211</td>\n",
       "      <td>0.1</td>\n",
       "      <td>Jingyu</td>\n",
       "    </tr>\n",
       "    <tr>\n",
       "      <th>4</th>\n",
       "      <td>-0.90</td>\n",
       "      <td>0.7761</td>\n",
       "      <td>1.522053</td>\n",
       "      <td>0.1</td>\n",
       "      <td>Jingyu</td>\n",
       "    </tr>\n",
       "    <tr>\n",
       "      <th>5</th>\n",
       "      <td>-1.01</td>\n",
       "      <td>0.5977</td>\n",
       "      <td>1.760422</td>\n",
       "      <td>0.1</td>\n",
       "      <td>Jingyu</td>\n",
       "    </tr>\n",
       "  </tbody>\n",
       "</table>\n",
       "</div>"
      ],
      "text/plain": [
       "      E      FE         i  hco3  source\n",
       "0 -0.53  0.7913  0.413300   0.1  Jingyu\n",
       "1 -0.62  0.8807  0.665581   0.1  Jingyu\n",
       "2 -0.71  0.9438  1.028164   0.1  Jingyu\n",
       "3 -0.82  0.8820  1.380211   0.1  Jingyu\n",
       "4 -0.90  0.7761  1.522053   0.1  Jingyu\n",
       "5 -1.01  0.5977  1.760422   0.1  Jingyu"
      ]
     },
     "execution_count": 13,
     "metadata": {},
     "output_type": "execute_result"
    }
   ],
   "source": [
    "import pickle\n",
    "import pandas as pd\n",
    "import tensorflow as tf\n",
    "from joblib import dump, load\n",
    "from matplotlib import pyplot as plt\n",
    "\n",
    "# Models for Planar Au Electrode trained on COMSOL data\n",
    "names = ['ogHER', 'simple', 'ogHERandCER', 'Yogi']\n",
    "name = names[3]\n",
    "#scale = load(f'./Non_Yogi_Models/{name}_Model/scale_{name}.bin')\n",
    "#i_model = tf.keras.models.load_model(f'./Non_Yogi_Models/{name}_Model/planar_i_{name}')\n",
    "#fe_model = tf.keras.models.load_model(f'./Non_Yogi_Models/{name}_Model/planar_FE_{name}')\n",
    "\n",
    "# Literature Gold Data -- Isolating Jingyu Data\n",
    "f = pd.read_csv('gold_lit_data_Dec3.csv')\n",
    "f = f.loc[f['source'] ==\"Jingyu\"].copy()\n",
    "f"
   ]
  },
  {
   "cell_type": "code",
   "execution_count": 14,
   "id": "8f6de56e",
   "metadata": {},
   "outputs": [
    {
     "data": {
      "text/plain": [
       "{'Ex1': -3.22515,\n",
       " 'Ex2': -6.71729,\n",
       " 'Ex3': -0.23771,\n",
       " 'dif': 372.0,\n",
       " 'o1': 0.13089,\n",
       " 'o2': 0.08438,\n",
       " 'o3': 0.86534,\n",
       " 'o4': 0.84369,\n",
       " 'o5': 0.71676,\n",
       " 'o6': 0.79954}"
      ]
     },
     "execution_count": 14,
     "metadata": {},
     "output_type": "execute_result"
    }
   ],
   "source": [
    "# Load BO variables from fitting\n",
    "BO_res = pickle.load(open(f'./BO_Results/{name}_Best.pkl', 'rb'))\n",
    "BO_res = BO_res[0]\n",
    "BO_res"
   ]
  },
  {
   "cell_type": "code",
   "execution_count": 5,
   "id": "eab121ad",
   "metadata": {},
   "outputs": [
    {
     "name": "stdout",
     "output_type": "stream",
     "text": [
      "[[-0.53, -3.43851, -5.86887, 37.0, 0.1, 0.37683]]\n",
      "[[-0.62, -3.43851, -5.86887, 37.0, 0.1, 0.3197]]\n",
      "[[-0.71, -3.43851, -5.86887, 37.0, 0.1, 0.59397]]\n",
      "[[-0.82, -3.43851, -5.86887, 37.0, 0.1, 0.18515]]\n",
      "[[-0.9, -3.43851, -5.86887, 37.0, 0.1, 0.52387]]\n",
      "[[-1.01, -3.43851, -5.86887, 37.0, 0.1, 0.43372]]\n",
      "[0.98403484, 0.96924436, 0.9562306, 0.90725625, 0.8137328, 0.4418134]\n",
      "[0.093917534, 0.8459256, 1.5775906, 2.284172, 2.6158977, 3.0244095]\n"
     ]
    }
   ],
   "source": [
    "# Run predictions on using loaded variables\n",
    "ans_fe = []\n",
    "ans_i = []\n",
    "for i in range(len(f)):\n",
    "    order = 'o' + str(i+1)\n",
    "    #vals = [[f.loc[i,'E'], BO_res.get(order), BO_res.get('Ex1'), BO_res.get('Ex2'), BO_res.get('Ex3'), BO_res.get('dif')]]\n",
    "    vals = [[f.loc[i,'E'] , BO_res.get('i1c'), BO_res.get('i1h'), BO_res.get('dif'), 0.1, BO_res.get(order)]]\n",
    "    print(vals)\n",
    "    vals = scale.transform(vals)\n",
    "    ans_fe.append(fe_model.predict(vals)[0][0])\n",
    "    ans_i.append(i_model.predict(vals)[0][0]) \n",
    "print(ans_fe)\n",
    "print(ans_i)\n",
    "t = pd.DataFrame()\n",
    "t['E'] = f.loc[:,'E']\n",
    "t['FE'] = ans_fe\n",
    "t['i'] = ans_i\n",
    "t['hco3'] = 0.1\n",
    "t['source'] = name\n",
    "t = pd.concat([f, t])\n",
    "t.to_csv(f'FittingResults_{name}.csv', index=False)"
   ]
  },
  {
   "cell_type": "code",
   "execution_count": 7,
   "id": "06a61a35",
   "metadata": {},
   "outputs": [
    {
     "data": {
      "image/png": "[encoded data removed]",
      "text/plain": [
       "<Figure size 432x288 with 2 Axes>"
      ]
     },
     "metadata": {
      "needs_background": "light"
     },
     "output_type": "display_data"
    }
   ],
   "source": [
    "fig, ax1 = plt.subplots()\n",
    "\n",
    "ax2 = ax1.twinx()\n",
    "ax1.plot(f.loc[:, 'E'], f.loc[:, 'i'], 'g-', label='Real Cur')\n",
    "ax2.plot(f.loc[:, 'E'], f.loc[:, 'FE'], 'b-', label='Real FE')\n",
    "ax1.plot(f.loc[:, 'E'], ans_i, 'r-', label='BO Cur')\n",
    "ax2.plot(f.loc[:, 'E'], ans_fe, 'k-', label='BO FE')\n",
    "\n",
    "ax1.set_xlabel('Potential vs RHE')\n",
    "ax1.set_ylabel('log(i_total(A/m^2))', color='g')\n",
    "ax2.set_ylabel('FE', color='b')\n",
    "\n",
    "plt.legend()\n",
    "plt.show()"
   ]
  },
  {
   "cell_type": "code",
   "execution_count": null,
   "id": "55b1b727",
   "metadata": {},
   "outputs": [],
   "source": [
    "import os\n",
    "from sklearn.preprocessing import StandardScaler as SScaler\n",
    "import warnings\n",
    "import numpy as np\n",
    "warnings.filterwarnings('ignore', category=DeprecationWarning)\n",
    "\n",
    "path = './Non_Yogi_Models'\n",
    "models = os.listdir(path)\n",
    "print(models)\n",
    "for mod in models:\n",
    "    if (not mod.startswith('.')):\n",
    "        data = pd.read_csv(f'{path}/{mod}/{mod[:-6]}.csv')\n",
    "        print(mod)\n",
    "        print(data.head())\n",
    "        scaler = SScaler()\n",
    "        scaler.fit_transform(data)\n",
    "        i_model = tf.keras.models.load_model(f'{path}/{mod}/planar_i_{mod[:-6]}')\n",
    "        ar = np.array(list(data.iloc[0, 2:])) #CHANGE\n",
    "        ar = ar.reshape(1,-1)\n",
    "        print(i_model.predict(ar))"
   ]
  },
  {
   "cell_type": "code",
   "execution_count": 20,
   "id": "400cf062",
   "metadata": {},
   "outputs": [
    {
     "data": {
      "image/png": "[encoded data removed]",
      "text/plain": [
       "<Figure size 432x288 with 1 Axes>"
      ]
     },
     "metadata": {
      "needs_background": "light"
     },
     "output_type": "display_data"
    }
   ],
   "source": [
    "import pandas as pd, pickle\n",
    "from matplotlib import pyplot as plt\n",
    "\n",
    "def fix(losses):\n",
    "    cur_min = float('inf')\n",
    "    fixed = []\n",
    "    for loss in losses:\n",
    "        to_append = cur_min\n",
    "        if loss < cur_min:\n",
    "            to_append = loss\n",
    "            cur_min = loss\n",
    "        else:\n",
    "            fixed.append(cur_min)\n",
    "    return fixed\n",
    "\n",
    "trials = pickle.load(open('./BO_Results/Yogi.hyperopt', 'rb'))\n",
    "#print(f'{[t for t in trials][:1]}\\n')\n",
    "losses = []\n",
    "for i, trial in enumerate(trials):\n",
    "    losses.append(trial['result']['loss'])\n",
    "losses_min = fix(losses)\n",
    "plt.plot(range(len(losses_min)), losses_min)\n",
    "df = pd.DataFrame(enumerate(losses_min), columns=['Trial','Loss'])\n",
    "df.to_csv('BO_of_COMSOL.csv', index=False)"
   ]
  },
  {
   "cell_type": "code",
   "execution_count": null,
   "id": "418e73d0",
   "metadata": {},
   "outputs": [],
   "source": []
  }
 ],
 "metadata": {
  "kernelspec": {
   "display_name": "Python 3",
   "language": "python",
   "name": "python3"
  },
  "language_info": {
   "codemirror_mode": {
    "name": "ipython",
    "version": 3
   },
   "file_extension": ".py",
   "mimetype": "text/x-python",
   "name": "python",
   "nbconvert_exporter": "python",
   "pygments_lexer": "ipython3",
   "version": "3.9.4"
  }
 },
 "nbformat": 4,
 "nbformat_minor": 5
}
