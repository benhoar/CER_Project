{
 "cells": [
  {
   "cell_type": "code",
   "execution_count": 31,
   "metadata": {},
   "outputs": [],
   "source": [
    "#knr, mlp, br, brr, gpr, svr, sgd, rfr, adar\n",
    "from sklearn.model_selection import train_test_split as TTS, cross_validate as cv \n",
    "from sklearn.preprocessing import MinMaxScaler as MMS, StandardScaler as SScaler\n",
    "from sklearn.ensemble import RandomForestRegressor as RFR, AdaBoostRegressor as ADA\n",
    "from sklearn.linear_model import SGDRegressor as SGD, BayesianRidge as BRR\n",
    "from sklearn.neural_network import MLPRegressor as MLP\n",
    "from sklearn.neighbors import KNeighborsRegressor as KNR\n",
    "from sklearn.gaussian_process import GaussianProcessRegressor as GPR\n",
    "from sklearn.svm import SVR\n",
    "from sklearn.tree import DecisionTreeRegressor as DTR\n",
    "from sklearn.metrics import mean_squared_error as MSE, r2_score as r2\n",
    "from sklearn.model_selection import GridSearchCV as GSCV\n",
    "from matplotlib import pyplot as plt\n",
    "import time, scipy, numpy as np, math, pickle, random, warnings, pandas as pd, csv, hyperas\n",
    "from sklearn.pipeline import Pipeline\n",
    "from hyperopt import STATUS_OK, tpe, Trials, hp, fmin\n",
    "from functools import partial\n",
    "warnings.filterwarnings('ignore')\n",
    "warnings.filterwarnings('ignore', category=DeprecationWarning)\n",
    "from tensorflow import keras\n",
    "from tensorflow.keras import layers\n",
    "from keras.layers import Dense\n",
    "from joblib import dump, load\n",
    "import os"
   ]
  },
  {
   "cell_type": "code",
   "execution_count": 54,
   "metadata": {},
   "outputs": [],
   "source": [
    "FILE_NAME = \"Nov27_All.csv\"\n",
    "SCALE_NAME = \"Planar_Scale_\"\n",
    "NUM_EX = 3"
   ]
  },
  {
   "cell_type": "code",
   "execution_count": 55,
   "metadata": {},
   "outputs": [
    {
     "data": {
      "image/png": "[encoded data removed]",
      "text/plain": [
       "<Figure size 432x288 with 1 Axes>"
      ]
     },
     "metadata": {
      "needs_background": "light"
     },
     "output_type": "display_data"
    }
   ],
   "source": [
    "def get_data(label, name=FILE_NAME): #YOGI16 before\n",
    "    frame = pd.read_csv(name)\n",
    "    frame = frame[frame['E'] != 0] #remove missing rows\n",
    "    #frame = frame[frame['CERd'] > -30]\n",
    "    \n",
    "    if (label == 'i_total'):\n",
    "        #frame['i'] = (frame['CER'] + frame['HER'])/(f['P']*f['P']*10**-6*10**-6)\n",
    "        frame['i'] = (frame['CER'] + frame['HER'])/(20*20*10**-6*10**-6)\n",
    "        frame['i_total'] = frame.apply(lambda x: math.log10(-1*x.i), axis=1) #calc cur density\n",
    "        frame.drop(['CER','HER','i'], axis=1, inplace=True)\n",
    "        ax = frame['i_total'].hist(bins=20)\n",
    "        ax.set_xlabel('Current (A/m^2)')\n",
    "        ax.set_ylabel('Count')\n",
    "        ax.set_title('Current Density Distribution (Yogi Model)')\n",
    "        #plt.savefig('Yogi_Current_Density_Dist.png')\n",
    "        plt.show()\n",
    "    else:\n",
    "        frame['FE'] = round(frame['CER']/(frame['CER']+frame['HER']), 5)\n",
    "        frame.drop(['CER','HER'], axis=1, inplace=True)\n",
    "        ax = frame['FE'].hist(bins=20)\n",
    "        plt.show()\n",
    "    for i in range(NUM_EX): #take logs of exchange current densities\n",
    "        frame.iloc[:,2+i] = frame.iloc[:,2+i].apply(lambda x: math.log10(x))\n",
    "    x_t, X_T, y_t, Y_T = TTS(frame.iloc[:,:-1], (frame[label]), test_size=0.2, random_state=26)\n",
    "    return x_t, y_t, X_T, Y_T, frame\n",
    "x_t, y_t, X_T, Y_T, frame = get_data('FE')"
   ]
  },
  {
   "cell_type": "code",
   "execution_count": 56,
   "metadata": {},
   "outputs": [
    {
     "data": {
      "image/png": "[encoded data removed]",
      "text/plain": [
       "<Figure size 432x288 with 1 Axes>"
      ]
     },
     "metadata": {
      "needs_background": "light"
     },
     "output_type": "display_data"
    },
    {
     "name": "stdout",
     "output_type": "stream",
     "text": [
      "New Scaler Planar_Scale_0.bin\n"
     ]
    },
    {
     "data": {
      "text/html": [
       "<div>\n",
       "<style scoped>\n",
       "    .dataframe tbody tr th:only-of-type {\n",
       "        vertical-align: middle;\n",
       "    }\n",
       "\n",
       "    .dataframe tbody tr th {\n",
       "        vertical-align: top;\n",
       "    }\n",
       "\n",
       "    .dataframe thead th {\n",
       "        text-align: right;\n",
       "    }\n",
       "</style>\n",
       "<table border=\"1\" class=\"dataframe\">\n",
       "  <thead>\n",
       "    <tr style=\"text-align: right;\">\n",
       "      <th></th>\n",
       "      <th>E</th>\n",
       "      <th>ord</th>\n",
       "      <th>Ex1</th>\n",
       "      <th>Ex2</th>\n",
       "      <th>Ex3</th>\n",
       "      <th>dif</th>\n",
       "      <th>FE</th>\n",
       "    </tr>\n",
       "  </thead>\n",
       "  <tbody>\n",
       "    <tr>\n",
       "      <th>0</th>\n",
       "      <td>-0.58</td>\n",
       "      <td>0.316691</td>\n",
       "      <td>-4.570000</td>\n",
       "      <td>-3.300000</td>\n",
       "      <td>3.880000</td>\n",
       "      <td>434.1</td>\n",
       "      <td>0.00231</td>\n",
       "    </tr>\n",
       "    <tr>\n",
       "      <th>1</th>\n",
       "      <td>-0.64</td>\n",
       "      <td>0.884189</td>\n",
       "      <td>-5.510000</td>\n",
       "      <td>-5.560000</td>\n",
       "      <td>1.350000</td>\n",
       "      <td>384.1</td>\n",
       "      <td>0.00204</td>\n",
       "    </tr>\n",
       "    <tr>\n",
       "      <th>2</th>\n",
       "      <td>-0.56</td>\n",
       "      <td>0.738607</td>\n",
       "      <td>-5.510000</td>\n",
       "      <td>-3.320000</td>\n",
       "      <td>-5.960000</td>\n",
       "      <td>185.1</td>\n",
       "      <td>0.00075</td>\n",
       "    </tr>\n",
       "    <tr>\n",
       "      <th>3</th>\n",
       "      <td>-0.41</td>\n",
       "      <td>0.398945</td>\n",
       "      <td>-5.970000</td>\n",
       "      <td>-8.300000</td>\n",
       "      <td>1.100000</td>\n",
       "      <td>412.1</td>\n",
       "      <td>0.00001</td>\n",
       "    </tr>\n",
       "    <tr>\n",
       "      <th>4</th>\n",
       "      <td>-0.43</td>\n",
       "      <td>0.131133</td>\n",
       "      <td>-4.040000</td>\n",
       "      <td>-1.930000</td>\n",
       "      <td>1.370000</td>\n",
       "      <td>220.1</td>\n",
       "      <td>0.00064</td>\n",
       "    </tr>\n",
       "    <tr>\n",
       "      <th>...</th>\n",
       "      <td>...</td>\n",
       "      <td>...</td>\n",
       "      <td>...</td>\n",
       "      <td>...</td>\n",
       "      <td>...</td>\n",
       "      <td>...</td>\n",
       "      <td>...</td>\n",
       "    </tr>\n",
       "    <tr>\n",
       "      <th>24193</th>\n",
       "      <td>-0.53</td>\n",
       "      <td>0.796278</td>\n",
       "      <td>-3.470000</td>\n",
       "      <td>-7.679999</td>\n",
       "      <td>-2.710000</td>\n",
       "      <td>395.1</td>\n",
       "      <td>0.99777</td>\n",
       "    </tr>\n",
       "    <tr>\n",
       "      <th>24194</th>\n",
       "      <td>-0.69</td>\n",
       "      <td>0.776656</td>\n",
       "      <td>-0.920000</td>\n",
       "      <td>-8.710001</td>\n",
       "      <td>-3.920002</td>\n",
       "      <td>307.1</td>\n",
       "      <td>0.99997</td>\n",
       "    </tr>\n",
       "    <tr>\n",
       "      <th>24195</th>\n",
       "      <td>-0.90</td>\n",
       "      <td>0.573321</td>\n",
       "      <td>-3.979999</td>\n",
       "      <td>-9.420000</td>\n",
       "      <td>-4.440000</td>\n",
       "      <td>326.1</td>\n",
       "      <td>0.99944</td>\n",
       "    </tr>\n",
       "    <tr>\n",
       "      <th>24196</th>\n",
       "      <td>-0.45</td>\n",
       "      <td>0.391542</td>\n",
       "      <td>0.430000</td>\n",
       "      <td>-8.150000</td>\n",
       "      <td>-2.940000</td>\n",
       "      <td>331.1</td>\n",
       "      <td>0.99995</td>\n",
       "    </tr>\n",
       "    <tr>\n",
       "      <th>24197</th>\n",
       "      <td>-0.95</td>\n",
       "      <td>0.928317</td>\n",
       "      <td>-5.340000</td>\n",
       "      <td>-9.750000</td>\n",
       "      <td>-3.100000</td>\n",
       "      <td>235.1</td>\n",
       "      <td>0.99926</td>\n",
       "    </tr>\n",
       "  </tbody>\n",
       "</table>\n",
       "<p>24198 rows × 7 columns</p>\n",
       "</div>"
      ],
      "text/plain": [
       "          E       ord       Ex1       Ex2       Ex3    dif       FE\n",
       "0     -0.58  0.316691 -4.570000 -3.300000  3.880000  434.1  0.00231\n",
       "1     -0.64  0.884189 -5.510000 -5.560000  1.350000  384.1  0.00204\n",
       "2     -0.56  0.738607 -5.510000 -3.320000 -5.960000  185.1  0.00075\n",
       "3     -0.41  0.398945 -5.970000 -8.300000  1.100000  412.1  0.00001\n",
       "4     -0.43  0.131133 -4.040000 -1.930000  1.370000  220.1  0.00064\n",
       "...     ...       ...       ...       ...       ...    ...      ...\n",
       "24193 -0.53  0.796278 -3.470000 -7.679999 -2.710000  395.1  0.99777\n",
       "24194 -0.69  0.776656 -0.920000 -8.710001 -3.920002  307.1  0.99997\n",
       "24195 -0.90  0.573321 -3.979999 -9.420000 -4.440000  326.1  0.99944\n",
       "24196 -0.45  0.391542  0.430000 -8.150000 -2.940000  331.1  0.99995\n",
       "24197 -0.95  0.928317 -5.340000 -9.750000 -3.100000  235.1  0.99926\n",
       "\n",
       "[24198 rows x 7 columns]"
      ]
     },
     "execution_count": 56,
     "metadata": {},
     "output_type": "execute_result"
    }
   ],
   "source": [
    "def init_data_tf(label, path, size=0, name=FILE_NAME):\n",
    "    x_t, y_t, X_T, Y_T, frame = get_data(label, name)\n",
    "    x_t_info = x_t.describe()\n",
    "    x_t_info = x_t_info.transpose()\n",
    "    scale_path = path + SCALE_NAME + str(size) + '.bin'\n",
    "    if (os.path.exists(scale_path)):\n",
    "        print(f'Found {scale_path}')\n",
    "        scale = load(scale_path)\n",
    "    else:\n",
    "        scale = SScaler()\n",
    "        print(f'New Scaler {scale_path}')\n",
    "    x_t = scale.fit_transform(x_t)\n",
    "    X_T = scale.transform(X_T)\n",
    "    dump(scale, scale_path, compress=True)\n",
    "    return x_t, y_t, X_T, Y_T, frame\n",
    "x_t, y_t, X_T, Y_T, frame = init_data_tf('FE', \"\")\n",
    "frame"
   ]
  },
  {
   "cell_type": "code",
   "execution_count": 57,
   "metadata": {},
   "outputs": [],
   "source": [
    "#imports we know we'll need\n",
    "import skopt\n",
    "from skopt import gbrt_minimize, gp_minimize\n",
    "from skopt.utils import use_named_args\n",
    "from skopt.space import Real, Categorical, Integer  \n",
    "from keras.models import Sequential\n",
    "from tensorflow.python.keras import backend as K\n",
    "from keras.optimizers import Adam\n",
    "import tensorflow as tf\n",
    "from tensorflow.python.framework import ops"
   ]
  },
  {
   "cell_type": "code",
   "execution_count": 58,
   "metadata": {},
   "outputs": [],
   "source": [
    "dim_learning_rate = Real(low=1e-9, high=0.1, prior='log-uniform', name='learning_rate')\n",
    "dim_num_dense_layers = Integer(low=2, high=15, name='num_dense_layers')\n",
    "dim_num_input_nodes = Integer(low=7, high=2500, name='num_input_nodes')\n",
    "dim_num_dense_nodes = Integer(low=1, high=50, name='num_dense_nodes')\n",
    "dim_activation = Categorical(categories=['relu'], name='activation')\n",
    "dim_batch_size = Integer(low=1, high=100, name='batch_size')\n",
    "dim_adam_decay = Real(low=1e-50,high=0.1,name=\"adam_decay\")\n",
    "\n",
    "dimensions = [dim_learning_rate,\n",
    "              dim_num_dense_layers,\n",
    "              dim_num_input_nodes,\n",
    "              dim_num_dense_nodes,\n",
    "              dim_activation,\n",
    "              dim_batch_size,\n",
    "              dim_adam_decay]\n",
    "default_parameters = [1e-3, 2, 7, 13, 'relu', 64, 1e-3]"
   ]
  },
  {
   "cell_type": "code",
   "execution_count": 59,
   "metadata": {},
   "outputs": [],
   "source": [
    "def create_model(learning_rate, num_dense_layers, num_input_nodes,\n",
    "                 num_dense_nodes, activation, adam_decay):\n",
    "    #start the model making process and create our first layer\n",
    "    model = Sequential()\n",
    "    model.add(Dense(num_input_nodes, input_shape=(6,), activation=activation))\n",
    "    #create a loop making a new dense layer for the amount passed to this model.\n",
    "    #naming the layers helps avoid tensorflow error deep in the stack trace.\n",
    "    for i in range(num_dense_layers):\n",
    "        name = 'layer_dense_{0}'.format(i+1)\n",
    "        model.add(Dense(num_dense_nodes, activation=activation, name=name))\n",
    "    #output layer, 1 node for regression\n",
    "    model.add(Dense(1))\n",
    "    \n",
    "    #setup our optimizer and compile\n",
    "    adam = Adam(lr=learning_rate, decay= adam_decay)\n",
    "    model.compile(optimizer=adam, loss=['mse'], metrics=['mse'])\n",
    "    return model"
   ]
  },
  {
   "cell_type": "code",
   "execution_count": 60,
   "metadata": {},
   "outputs": [],
   "source": [
    "@use_named_args(dimensions=dimensions)\n",
    "def fitness(learning_rate, num_dense_layers, num_input_nodes, \n",
    "            num_dense_nodes, activation, batch_size, adam_decay):\n",
    "\n",
    "    model = create_model(learning_rate=learning_rate,\n",
    "                         num_dense_layers=num_dense_layers,\n",
    "                         num_input_nodes=num_input_nodes,\n",
    "                         num_dense_nodes=num_dense_nodes,\n",
    "                         activation=activation,\n",
    "                         adam_decay=adam_decay)\n",
    "    #named blackbox becuase it represents the structure\n",
    "    blackbox = model.fit(x=x_t,\n",
    "                        y=y_t,\n",
    "                        epochs=6,\n",
    "                        batch_size=batch_size,\n",
    "                        validation_split=0.15,\n",
    "                        verbose=False) #i picked 20 epochs off of a generic MLP i trained\n",
    "    #return the validation accuracy for the last epoch.\n",
    "    error = blackbox.history['val_mse'][-1]\n",
    "    # Delete the Keras model with these hyper-parameters from memory.\n",
    "    del model\n",
    "    # Clear the Keras session, otherwise it will keep adding new models to the same graph \n",
    "    K.clear_session()\n",
    "    #tf.reset_default_graph() -- didn't work, ops follows Stack Overflow suggestion\n",
    "    ops.reset_default_graph()\n",
    "    return error"
   ]
  },
  {
   "cell_type": "code",
   "execution_count": 61,
   "metadata": {},
   "outputs": [
    {
     "name": "stdout",
     "output_type": "stream",
     "text": [
      "./Planar/DataSets/Data_1200.csv\n"
     ]
    },
    {
     "data": {
      "image/png": "[encoded data removed]",
      "text/plain": [
       "<Figure size 432x288 with 1 Axes>"
      ]
     },
     "metadata": {
      "needs_background": "light"
     },
     "output_type": "display_data"
    },
    {
     "name": "stdout",
     "output_type": "stream",
     "text": [
      "New Scaler ./Planar/1200_Results/Planar_Scale_1200.bin\n",
      "Training Size 18678\n",
      "Testing Size 4670\n"
     ]
    },
    {
     "data": {
      "image/png": "[encoded data removed]",
      "text/plain": [
       "<Figure size 432x288 with 1 Axes>"
      ]
     },
     "metadata": {
      "needs_background": "light"
     },
     "output_type": "display_data"
    },
    {
     "name": "stdout",
     "output_type": "stream",
     "text": [
      "{'Learning_Rate': 0.007291666107152635, 'Dense_Layers': 15, 'Input_Nodes': 2500, 'Dense_Nodes': 39, 'Activation': 'relu', 'Batch_Size': 100, 'Adam_Decay': 1e-50}\n",
      "{'Learning_Rate': 0.007291666107152635, 'Dense_Layers': 15, 'Input_Nodes': 2500, 'Dense_Nodes': 39, 'Activation': 'relu', 'Batch_Size': 100, 'Adam_Decay': 1e-50}\n"
     ]
    },
    {
     "data": {
      "image/png": "[encoded data removed]",
      "text/plain": [
       "<Figure size 432x288 with 1 Axes>"
      ]
     },
     "metadata": {
      "needs_background": "light"
     },
     "output_type": "display_data"
    },
    {
     "name": "stdout",
     "output_type": "stream",
     "text": [
      "Found ./Planar/1200_Results/Planar_Scale_1200.bin\n",
      "INFO:tensorflow:Assets written to: ./Planar/1200_Results/i_total_Model/assets\n"
     ]
    },
    {
     "data": {
      "image/png": "[encoded data removed]",
      "text/plain": [
       "<Figure size 432x288 with 1 Axes>"
      ]
     },
     "metadata": {
      "needs_background": "light"
     },
     "output_type": "display_data"
    },
    {
     "data": {
      "image/png": "[encoded data removed]",
      "text/plain": [
       "<Figure size 432x288 with 1 Axes>"
      ]
     },
     "metadata": {
      "needs_background": "light"
     },
     "output_type": "display_data"
    },
    {
     "name": "stdout",
     "output_type": "stream",
     "text": [
      "Test set error: 0.001022248363310209\n",
      "Training Error: 0.0009302743353613009\n"
     ]
    },
    {
     "data": {
      "image/png": "[encoded data removed]",
      "text/plain": [
       "<Figure size 432x288 with 1 Axes>"
      ]
     },
     "metadata": {
      "needs_background": "light"
     },
     "output_type": "display_data"
    },
    {
     "name": "stdout",
     "output_type": "stream",
     "text": [
      "Found ./Planar/1200_Results/Planar_Scale_1200.bin\n",
      "Training Size 18678\n",
      "Testing Size 4670\n"
     ]
    },
    {
     "data": {
      "image/png": "[encoded data removed]",
      "text/plain": [
       "<Figure size 432x288 with 1 Axes>"
      ]
     },
     "metadata": {
      "needs_background": "light"
     },
     "output_type": "display_data"
    },
    {
     "name": "stdout",
     "output_type": "stream",
     "text": [
      "{'Learning_Rate': 0.0038757877233915818, 'Dense_Layers': 15, 'Input_Nodes': 2500, 'Dense_Nodes': 11, 'Activation': 'relu', 'Batch_Size': 1, 'Adam_Decay': 0.0024813334399314563}\n",
      "{'Learning_Rate': 0.0038757877233915818, 'Dense_Layers': 15, 'Input_Nodes': 2500, 'Dense_Nodes': 11, 'Activation': 'relu', 'Batch_Size': 1, 'Adam_Decay': 0.0024813334399314563}\n"
     ]
    },
    {
     "data": {
      "image/png": "[encoded data removed]",
      "text/plain": [
       "<Figure size 432x288 with 1 Axes>"
      ]
     },
     "metadata": {
      "needs_background": "light"
     },
     "output_type": "display_data"
    },
    {
     "name": "stdout",
     "output_type": "stream",
     "text": [
      "Found ./Planar/1200_Results/Planar_Scale_1200.bin\n",
      "INFO:tensorflow:Assets written to: ./Planar/1200_Results/FE_Model/assets\n"
     ]
    },
    {
     "data": {
      "image/png": "[encoded data removed]",
      "text/plain": [
       "<Figure size 432x288 with 1 Axes>"
      ]
     },
     "metadata": {
      "needs_background": "light"
     },
     "output_type": "display_data"
    },
    {
     "data": {
      "image/png": "[encoded data removed]",
      "text/plain": [
       "<Figure size 432x288 with 1 Axes>"
      ]
     },
     "metadata": {
      "needs_background": "light"
     },
     "output_type": "display_data"
    },
    {
     "name": "stdout",
     "output_type": "stream",
     "text": [
      "Test set error: 4.082249806364211e-05\n",
      "Training Error: 3.168600784564159e-05\n"
     ]
    },
    {
     "data": {
      "text/plain": [
       "<Figure size 432x288 with 0 Axes>"
      ]
     },
     "metadata": {},
     "output_type": "display_data"
    }
   ],
   "source": [
    "%matplotlib inline\n",
    "from skopt.plots import plot_convergence #skopt used for TF neural nets\n",
    "import glob\n",
    "import pickle\n",
    "\n",
    "def conv_data(conv_results, file):\n",
    "    x = range(len(conv_results))\n",
    "    min_val = conv_results[0]\n",
    "    ans = []\n",
    "    for res in conv_results:\n",
    "        if (res < min_val): min_val = res\n",
    "        if res > min_val: res = min_val\n",
    "        ans.append(res)\n",
    "    df = pd.DataFrame(ans, columns=['Loss'])\n",
    "    df.to_csv(file + '_Conv_Plot.csv', index=False)\n",
    "    \n",
    "def make_cut_sets(path, size):\n",
    "    path = path + 'DataSets/'\n",
    "    if (not os.path.isdir(path)): os.mkdir(path)\n",
    "    f = pd.read_csv(FILE_NAME)\n",
    "    df = f.copy()\n",
    "    df['FE'] = round(df['CER']/(df['CER'] + df['HER']),5)\n",
    "    df['Bin'] = pd.cut(df['FE'], bins=20, labels=list(range(20)))\n",
    "    df = df.groupby('Bin').apply(lambda x : x.sample(min(len(x), size))).reset_index(drop=True)\n",
    "    df.drop(['FE', 'Bin'], axis=1, inplace=True)\n",
    "    df.to_csv(path + 'Data_' + str(size) + '.csv', index=False)\n",
    "\n",
    "def train(file, size, label, path):\n",
    "    res_path = path + label + '_' + str(size) + '_Nov12'\n",
    "    x_t, y_t, X_T, Y_T, _ = init_data_tf(label, path, size, file)\n",
    "    print(f'Training Size {len(x_t)}\\nTesting Size {len(X_T)}')\n",
    "    gp_result = gp_minimize(func=fitness,\n",
    "                            dimensions=dimensions,\n",
    "                            n_calls=150,\n",
    "                            noise=0.1,\n",
    "                            #n_jobs=-1,\n",
    "                            kappa=5,\n",
    "                            x0=default_parameters)\n",
    "    conv_data(gp_result.func_vals, res_path)\n",
    "    plot_convergence(gp_result)\n",
    "    plt.savefig(res_path + '_Conv_Plot.png')\n",
    "    plt.show()\n",
    "    plt.clf()\n",
    "    results = {'Learning_Rate':0, 'Dense_Layers':0, 'Input_Nodes':0, 'Dense_Nodes':0, 'Activation':'x', 'Batch_Size':0, 'Adam_Decay':0}\n",
    "    for i, key in enumerate(results.keys()):\n",
    "        results[key] = gp_result.x[i]\n",
    "    with open(path + 'Hyperparams_' + label + '_' + str(size) + '.pkl', 'wb') as f:\n",
    "        pickle.dump(results, f)\n",
    "    print(results)\n",
    "    K.clear_session()\n",
    "    ops.reset_default_graph()\n",
    "    return results\n",
    "\n",
    "def test(params, label, size, file, path, epochs=25):\n",
    "    x_t, y_t, X_T, Y_T, _ = init_data_tf(label, path, size, file)\n",
    "    model = create_model(params['Learning_Rate'], params['Dense_Layers'], params['Input_Nodes'],\n",
    "                         params['Dense_Nodes'], params['Activation'], params['Adam_Decay'])\n",
    "    history = model.fit(x_t, y_t, epochs=epochs, batch_size=params['Batch_Size'], validation_split=0.2, verbose=False)\n",
    "    model.save(path + label +'_Model')\n",
    "    df = pd.DataFrame()\n",
    "    df['Training Loss'] = history.history['loss']\n",
    "    df['Validation Loss'] = history.history['val_loss']\n",
    "    df.to_csv(path + 'TrainingGraphData_' + label + '.csv', index=False)\n",
    "    plt.plot(history.history['loss'])\n",
    "    plt.plot(history.history['val_loss'])\n",
    "    #plt.savefig()\n",
    "    plt.show()\n",
    "    plt.clf()\n",
    "    a = model.predict(X_T)\n",
    "    a = a\n",
    "    Y_T = Y_T\n",
    "    df2 = pd.DataFrame()\n",
    "    df2['Real Val'] = Y_T\n",
    "    df2.reset_index(inplace=True, drop=True)\n",
    "    df2['Prediction Val'] = a\n",
    "    df2.to_csv(path +'/AccuracyGraphData_' + label + '.csv', index=False)\n",
    "    plt.scatter(a, Y_T, c='dodgerblue', alpha=0.2)\n",
    "    plt.title('Planar Model ' + label)\n",
    "    plt.xlabel('Neural Network ' + label)\n",
    "    plt.ylabel('Finite Element i ' + label)\n",
    "    plt.savefig(path + label +  '_AccuracyGraph.png', dpi=150)\n",
    "    plt.show()\n",
    "    plt.clf()\n",
    "    errs = {}\n",
    "    errs['TestSet'] = str(MSE(a, Y_T))\n",
    "    errs['TrainingSet'] = str(MSE(model.predict(x_t), y_t))\n",
    "    with open(path + label +'_FinalErrors.pkl', 'wb') as f:\n",
    "        pickle.dump(errs, f)\n",
    "    print('Test set error: ' + errs['TestSet'])\n",
    "    print('Training Error: '+ errs['TrainingSet'])\n",
    "\n",
    "sizes = [1200]\n",
    "path = './Planar/'\n",
    "for size in sizes:\n",
    "    make_cut_sets(path, size)\n",
    "template = './Planar/DataSets/*.csv'\n",
    "files = [template.replace('*', 'Data_' + str(size)) for size in sizes]\n",
    "for i, file in enumerate(files):\n",
    "    res_path = path + str(sizes[i]) + '_Results/'\n",
    "    if (not os.path.isdir(res_path)): os.mkdir(res_path)\n",
    "    print(file)\n",
    "    for label in ['i_total', 'FE']:\n",
    "        results = train(file, sizes[i], label, res_path)\n",
    "        print(results)\n",
    "        test(results, label, sizes[i], file, res_path)"
   ]
  },
  {
   "cell_type": "code",
   "execution_count": null,
   "metadata": {},
   "outputs": [],
   "source": [
    "print(gp_result.x[0],gp_result.x[1],gp_result.x[2],gp_result.x[3],gp_result.x[4],gp_result.x[5])"
   ]
  },
  {
   "cell_type": "code",
   "execution_count": null,
   "metadata": {},
   "outputs": [],
   "source": [
    "x_t, y_t, X_T, Y_T, _ = init_data_tf('i_total')\n",
    "model = create_model(0.002125360919364234, 2, 2500, 24, 'relu',1e-50)\n",
    "history = model.fit(x_t, y_t, epochs=10, batch_size=1, validation_split=0.2, verbose=False)\n",
    "model.save(\"./Wire/i_Wire_Mar15_nolog\")\n",
    "plt.plot(history.history['loss'])\n",
    "plt.plot(history.history['val_loss'])\n",
    "plt.show()\n",
    "plt.clf()\n",
    "a = model.predict(X_T)\n",
    "a = a\n",
    "Y_T = Y_T\n",
    "plt.scatter(a, Y_T, c='dodgerblue', alpha=0.2)\n",
    "plt.title('Wire i Model')\n",
    "plt.xlabel('Neural Network i')\n",
    "plt.ylabel('Finite Element i')\n",
    "plt.savefig('./Wire/i_Wire_Mar15_nolog.png', dpi=150)\n",
    "print('Test set error: ' + str(MSE(a, Y_T)))\n",
    "print('Training Error: '+ str(MSE(model.predict(x_t), y_t)))"
   ]
  },
  {
   "cell_type": "code",
   "execution_count": null,
   "metadata": {},
   "outputs": [],
   "source": [
    "frame['dif'].hist(bins=30)"
   ]
  },
  {
   "cell_type": "code",
   "execution_count": null,
   "metadata": {},
   "outputs": [],
   "source": [
    "with open('Yogi_Model/BO_results_Dec20.pkl', 'rb') as f:\n",
    "    results = pickle.load(f)\n",
    "[print(lst) for lst in results]"
   ]
  },
  {
   "cell_type": "code",
   "execution_count": null,
   "metadata": {},
   "outputs": [],
   "source": [
    "l = [7,9,8,8,8,8,9]\n",
    "np.average(l), np.std(l)"
   ]
  },
  {
   "cell_type": "code",
   "execution_count": null,
   "metadata": {},
   "outputs": [],
   "source": [
    "#Limit upper bounds of io values\n",
    "\n",
    "### ABOVE IS FOR NEURAL NETWORKS\n",
    "i_model = tf.keras.models.load_model('planar_i_total_model')\n",
    "plt.scatter(i_model.predict(X_T), Y_T)"
   ]
  },
  {
   "cell_type": "code",
   "execution_count": null,
   "metadata": {},
   "outputs": [],
   "source": [
    "x_t, y_t, X_T, Y_T,_ = get_data('FE')\n",
    "def hypertune_BO(params, model, scale=False, normalize=False, x_t=x_t):\n",
    "    if (normalize):\n",
    "        normaler = MMS()\n",
    "        x_t = normaler.fit_transform(x_t)\n",
    "    elif (scale):\n",
    "        scaler = SScaler()\n",
    "        x_t = scaler.fit_transform(x_t)\n",
    "    \n",
    "    res = cv(eval(model)(**params), x_t, y_t, cv=5, scoring=('neg_mean_squared_error')) #eval reads string for fcn\n",
    "    loss = abs(np.mean(res.get('test_score')))\n",
    "    f = open('BO_gen_' + model + '.csv', 'a')\n",
    "    write = csv.writer(f)\n",
    "    write.writerow([params, loss])\n",
    "    return {'loss':loss, 'params':params, 'status':STATUS_OK}\n",
    "\n",
    "#partial allows me to add more parameters to my objective function, a workaround required by fmin\n",
    "\n",
    "MLP_ss = {\n",
    "    'early_stopping' : hp.choice('early_stopping', [True]),\n",
    "    'hidden_layer_sizes' : hp.choice('hidden_layer_sizes', np.arange(10, 211, 10, dtype=int)),\n",
    "    'epsilon' : hp.loguniform('epsilon', np.log(1e-10), np.log(1e-5)),\n",
    "    'activation' : hp.choice('activation', ['relu', 'identity', 'tanh']),\n",
    "    'learning_rate_init' : hp.loguniform('learn_init', np.log(0.0001), np.log(0.1)),\n",
    "    'learning_rate' : hp.choice('learning_rate', ['constant', 'invscaling', 'adaptive'])\n",
    "}\n",
    "\n",
    "KNR_ss = {\n",
    "    'n_neighbors' : hp.choice('neighbors', np.arange(1,11,1, dtype=int)),\n",
    "    'weights' : hp.choice('weights', ['uniform', 'distance']),\n",
    "    'algorithm' : hp.choice('algo', ['kd_tree', 'ball_tree', 'brute']),\n",
    "    'leaf_size' : hp.choice('leaves', np.arange(10,50,5,dtype=int)),\n",
    "    'p' : hp.choice('p', [1,2])\n",
    "}\n",
    "\n",
    "SGD_ss = {\n",
    "    'loss' : hp.choice('loss', ['squared_loss', 'epsilon_insensitive']),\n",
    "    'penalty' : hp.choice('penalty', ['elasticnet']),\n",
    "    'l1_ratio' : hp.uniform('l1_ratio',0,1),\n",
    "    'alpha' : hp.loguniform('alpha', np.log(0.0000001), np.log(0.01)),\n",
    "    'epsilon' : hp.loguniform('epsilon', np.log(0.001), np.log(0.1)),\n",
    "    'learning_rate' : hp.choice('learning_rate', ['constant', 'invscaling', 'adaptive', 'optimal']),\n",
    "    'eta0' : hp.loguniform('eta', np.log(0.0001), np.log(0.1))\n",
    "}\n",
    "\n",
    "SVR_ss = {\n",
    "    'kernel' : hp.choice('kernel', ['linear', 'poly', 'rbf', 'sigmoid']),\n",
    "    'degree' : hp.choice('degree', [2,3,4]),\n",
    "    'gamma' : hp.choice('gamma', ['scale','auto']),\n",
    "    'C' : hp.loguniform('C', np.log(0.01), np.log(10))     \n",
    "}\n",
    "\n",
    "BRR_ss = {\n",
    "    'alpha_1' : hp.loguniform('a1', np.log(1e-8), np.log(1e-4)),\n",
    "    'alpha_2' : hp.loguniform('a2', np.log(1e-8), np.log(1e-4)),\n",
    "    'lambda_1' : hp.loguniform('l1', np.log(1e-8), np.log(1e-4)),\n",
    "    'lambda_2' : hp.loguniform('l2', np.log(1e-8), np.log(1e-4))\n",
    "}\n",
    "\n",
    "RFR_ss = {\n",
    "    'n_estimators' : hp.choice('n_est', np.arange(10, 211, 10, dtype=int)),\n",
    "    'min_samples_split' : hp.choice('min_split', np.arange(2, 11, 1, dtype=int)), \n",
    "    'max_features' : hp.choice('max_features', ['auto', 'sqrt', 'log2']),\n",
    "    'min_impurity_decrease' : hp.uniform('min_imp_dec', 0, 5)\n",
    "}\n",
    "\n",
    "d1 = DTR(max_depth=3)\n",
    "d2 = DTR(max_depth=5)\n",
    "d3 = DTR(max_depth=7)\n",
    "ADA_ss = {\n",
    "    'loss' : hp.choice('loss', ['square', 'linear', 'exponential']),\n",
    "    'n_estimators' : hp.choice('n_est', np.arange(10, 211, 10, dtype=int)),\n",
    "    'learning_rate' : hp.loguniform('learn_rate', np.log(0.1), np.log(10)),\n",
    "    'base_estimator' : hp.choice('estimator', [d1,d2,d3])\n",
    "}\n",
    "\n",
    "GPR_ss = {\n",
    "    'alpha' : hp.loguniform('alpha', np.log(1e-10), np.log(1e-5)),\n",
    "}"
   ]
  },
  {
   "cell_type": "code",
   "execution_count": null,
   "metadata": {},
   "outputs": [],
   "source": [
    "#0=scale, 1=normalize, 2=neither, encoded as such for convencience\n",
    "#'MLP':(0, MLP_ss), 'KNR':(1, KNR_ss), 'SGD':(0, SGD_ss)\n",
    "#'SVR':(1, SVR_ss)\n",
    "#'MLP':(0, MLP_ss), 'KNR':(1, KNR_ss), 'SGD':(0, SGD_ss),\n",
    "            # 'BRR':(1, BRR_ss), 'RFR':(2, RFR_ss),\n",
    "             #'ADA':(2, ADA_ss), 'GPR':(0, GPR_ss)}\n",
    "def bay_opt():\n",
    "    algos = {'ADA':(2, ADA_ss)}\n",
    "    for key in algos.keys():\n",
    "        info = algos.get(key) #value of algos dict gives info on data treatment and BO search space\n",
    "        file_name = key\n",
    "        f = open('BO_gen_' + file_name + '.csv', 'w')\n",
    "        writer = csv.writer(f)\n",
    "        writer.writerow(['Params', 'Loss'])\n",
    "        f.close()\n",
    "        tpe_algorithm = tpe.suggest\n",
    "        bayes_trials = Trials()\n",
    "        if (info[0] == 0):\n",
    "            objective = partial(hypertune_BO, model=key, scale=True) #partial allows more parameters in obj fcn\n",
    "            best = fmin(fn = objective, space = info[1], algo = tpe.suggest, max_evals = 30, trials = bayes_trials)\n",
    "        elif (info[0] == 1):\n",
    "            objective = partial(hypertune_BO, model=key, normalize=True)\n",
    "            best = fmin(fn = objective, space = info[1], algo = tpe.suggest, max_evals = 30, trials = bayes_trials)\n",
    "        else:\n",
    "            objective = partial(hypertune_BO, model=key)\n",
    "            best = fmin(fn = objective, space = info[1], algo = tpe.suggest, max_evals = 30, trials = bayes_trials)\n",
    "        print(key)\n",
    "        print(best)\n",
    "    return"
   ]
  },
  {
   "cell_type": "code",
   "execution_count": null,
   "metadata": {},
   "outputs": [],
   "source": [
    "bay_opt()"
   ]
  },
  {
   "cell_type": "code",
   "execution_count": null,
   "metadata": {},
   "outputs": [],
   "source": [
    "d3 = DTR(max_depth=7)\n",
    "model = ADA(base_estimator=d3, learning_rate=1.23104, loss='square', n_estimators=20)\n",
    "model.fit(x_t, y_t)\n",
    "a = model.predict(X_T)\n",
    "plt.scatter(Y_T,a)"
   ]
  },
  {
   "cell_type": "code",
   "execution_count": null,
   "metadata": {},
   "outputs": [],
   "source": [
    "def GSCV_model(steps, params, model_name, x_t=x_t, y_t=y_t, X_T=X_T, Y_T=Y_T):\n",
    "    pipe = Pipeline(steps)\n",
    "    grid = GSCV(pipe, param_grid=params, cv=3)\n",
    "    grid.fit(x_t, y_t)\n",
    "    a = grid.predict(X_T)\n",
    "    plt.scatter(Y_T, a)\n",
    "    plt.xlabel('Real A/m^2')\n",
    "    plt.ylabel('Pred A/m^2')\n",
    "    plt.title(model_name)\n",
    "    plt.savefig(model_name + '.png')\n",
    "    f = open(model_name + '.txt', 'w')\n",
    "    f.write('Score = %3.2f' %(grid.score(X_T,Y_T)) + '\\nBest Params:' +\n",
    "            str(grid.best_params_) + '\\nMSE: ' + str(MSE(Y_T, a)) + \n",
    "            '\\nr^2 valued: ' + str(r2(Y_T, a)))\n",
    "    f.close()\n",
    "    return"
   ]
  },
  {
   "cell_type": "code",
   "execution_count": null,
   "metadata": {},
   "outputs": [],
   "source": [
    "print(gp_result.x[0],gp_result.x[1],gp_result.x[2],gp_result.x[3],gp_result.x[4],gp_result.x[5])\n",
    "gp_result.x"
   ]
  },
  {
   "cell_type": "code",
   "execution_count": null,
   "metadata": {},
   "outputs": [],
   "source": [
    "ops.reset_default_graph()\n",
    "model = create_model(gp_result.x[0],gp_result.x[1],gp_result.x[2],gp_result.x[3],gp_result.x[4],gp_result.x[6])\n",
    "model.fit(x_t,y_t, epochs=20)\n",
    "a = model.predict(X_T)\n",
    "plt.scatter(a, Y_T)"
   ]
  },
  {
   "cell_type": "code",
   "execution_count": null,
   "metadata": {},
   "outputs": [],
   "source": [
    "#for generic TF MLP\n",
    "model = build_model()\n",
    "history = model.fit(x_t, y_t, epochs=20, validation_split = 0.2, verbose=0)\n",
    "accuracy = model.evaluate(X_T, Y_T)\n",
    "a = model.predict(X_T)\n",
    "plt.scatter(a, Y_T)"
   ]
  },
  {
   "cell_type": "code",
   "execution_count": null,
   "metadata": {},
   "outputs": [],
   "source": [
    "plt.plot(history.history['mse'])\n",
    "plt.plot(history.history['val_mse'])\n",
    "plt.title('model accuracy')\n",
    "plt.ylabel('accuracy')\n",
    "plt.xlabel('epoch')\n",
    "plt.legend(['train', 'test'], loc='upper left')\n",
    "plt.show()"
   ]
  },
  {
   "cell_type": "code",
   "execution_count": null,
   "metadata": {},
   "outputs": [],
   "source": [
    "\n",
    "\n",
    "\n",
    "#Split into code for older GCSV approach\n",
    "\n",
    "\n"
   ]
  },
  {
   "cell_type": "code",
   "execution_count": null,
   "metadata": {},
   "outputs": [],
   "source": [
    "def mlp_eval():\n",
    "    steps = [('scaler', SScaler()), ('mlp', MLP())] #\n",
    "    params = {'mlp__hidden_layer_sizes':[10,100,200,500], 'mlp__activation':['relu', 'tanh', 'logistic'], \n",
    "              'mlp__early_stopping':[True], 'mlp__epsilon':[1e-10,1e-8,1e-6]}\n",
    "    GSCV_model(steps, params, 'MLP')\n",
    "    return\n",
    "#mlp_eval()"
   ]
  },
  {
   "cell_type": "code",
   "execution_count": null,
   "metadata": {},
   "outputs": [],
   "source": [
    "def knr_eval():\n",
    "    steps = [('normal', MMS()), ('knr', KNR())] #\n",
    "    params = {'knr__n_neighbors':[2,5,10], 'knr__leaf_size':[10,30,50], 'knr__algorithm':['kd_tree','ball_tree']}\n",
    "    GSCV_model(steps, params, 'KNR')\n",
    "    return\n",
    "#knr_eval()"
   ]
  },
  {
   "cell_type": "code",
   "execution_count": null,
   "metadata": {},
   "outputs": [],
   "source": [
    "def sgd_eval():\n",
    "    steps = [('scaler', SScaler()), ('sgd', SGD())] #\n",
    "    params = {'sgd__early_stopping':[True], 'sgd__eta0':[0.1,0.01,0.001], \n",
    "              'sgd__learning_rate':['constant', 'adaptive'], 'sgd__penalty':['l1','l2','elasticnet']}\n",
    "    GSCV_model(steps, params, 'SGD')\n",
    "    return\n",
    "#sgd_eval()"
   ]
  },
  {
   "cell_type": "code",
   "execution_count": null,
   "metadata": {},
   "outputs": [],
   "source": [
    "def svr_eval():\n",
    "    steps = [('normal', MMS()), ('svr', SVR())] #\n",
    "    params = {'svr__kernel':['rbf','sigmoid','poly'], 'svr__C':[1,3], 'svr__tol':[1e-3,1e-2,1e-5]}\n",
    "    GSCV_model(steps, params, 'SVR')\n",
    "    return\n",
    "#svr_eval()"
   ]
  },
  {
   "cell_type": "code",
   "execution_count": null,
   "metadata": {},
   "outputs": [],
   "source": [
    "def brr_eval():\n",
    "    steps = [('normal', MMS()), ('brr', BRR())] #\n",
    "    params = {'brr__alpha_1':[1e-4,1e-6,1e-8], 'brr__alpha_2':[1e-4,1e-6,1e-8],\n",
    "              'brr__lambda_1':[1e-4,1e-6,1e-8], 'brr__lambda_2':[1e-4,1e-6,1e-8]}\n",
    "    GSCV_model(steps, params, 'BRR')\n",
    "    return\n",
    "#brr_eval()"
   ]
  },
  {
   "cell_type": "code",
   "execution_count": null,
   "metadata": {},
   "outputs": [],
   "source": [
    "def rfr_eval():\n",
    "    steps = [('rfr', RFR())] #\n",
    "    params = {'rfr__n_estimators':[10,50,100], 'rfr__min_samples_leaf':[1, 3, 6]}\n",
    "    GSCV_model(steps, params, 'RFR')\n",
    "    return\n",
    "#rfr_eval()"
   ]
  },
  {
   "cell_type": "code",
   "execution_count": null,
   "metadata": {},
   "outputs": [],
   "source": [
    "def adar_eval():\n",
    "    steps = [('ada', ADA())] #\n",
    "    d1 = DTR(max_depth=3)\n",
    "    d2 = DTR(max_depth=5)\n",
    "    d3 = DTR(max_depth=7)\n",
    "    params = {'ada__n_estimators':[25,50,100], 'ada__base_estimator':[d1, d2, d3]}\n",
    "    GSCV_model(steps, params, 'ADA')\n",
    "    return\n",
    "#adar_eval()"
   ]
  },
  {
   "cell_type": "code",
   "execution_count": null,
   "metadata": {},
   "outputs": [],
   "source": [
    "def gpr_eval():\n",
    "    steps = [('scaler', SScaler()), ('gpr', GPR())]\n",
    "    params = {'gpr__alpha':[1e-12, 1e-10, 1e-8]}\n",
    "    GSCV_model(steps, params, 'GPR')\n",
    "    return\n",
    "#gpr_eval()"
   ]
  },
  {
   "cell_type": "code",
   "execution_count": null,
   "metadata": {},
   "outputs": [],
   "source": [
    "#generic tensorflow model\n",
    "def build_model():\n",
    "    model = keras.Sequential([\n",
    "    layers.Dense(64, activation='relu', input_shape=(10,), name='input_layer'),\n",
    "    layers.Dense(64, activation='relu', name='hidden_layer'),\n",
    "    layers.Dense(1)\n",
    "    ])\n",
    "\n",
    "  #optimizer = tf.keras.optimizers.RMSprop(0.001)\n",
    "\n",
    "    model.compile(loss='mse',\n",
    "                optimizer='adam',\n",
    "                metrics=['mse'])\n",
    "    return model"
   ]
  },
  {
   "cell_type": "code",
   "execution_count": null,
   "metadata": {},
   "outputs": [],
   "source": [
    "f = pd.read_csv('./Wire/Mar15.csv')\n",
    "f.sort_values(by='CER', inplace=True)\n",
    "f['FE'] = f['CER']/(f['CER']+f['HER'])\n",
    "f['FE'].hist(bins=30)\n",
    "f_new = f.copy(deep=True)\n",
    "f_new"
   ]
  },
  {
   "cell_type": "code",
   "execution_count": null,
   "metadata": {},
   "outputs": [],
   "source": [
    "r = f.FE.max() - f.FE.min()\n",
    "f_new['bin'] = (f_new['FE'] // (r/30))-7\n",
    "f_new['bin'].hist(bins=30)\n",
    "counts = f_new['bin'].value_counts()\n",
    "max_val = counts.get(28)\n",
    "print(counts)"
   ]
  },
  {
   "cell_type": "code",
   "execution_count": null,
   "metadata": {},
   "outputs": [],
   "source": [
    "f_res = pd.DataFrame(columns=f_new.columns)\n",
    "for group in range(30):\n",
    "    t = f_new[f_new['bin'] == group]\n",
    "    if (len(t) <= max_val):\n",
    "        f_res = pd.concat([f_res, t])\n",
    "    else:\n",
    "        t = t.sample(frac=1).reset_index(drop=True)\n",
    "        t = t[:max_val]\n",
    "        f_res = pd.concat([f_res, t])\n",
    "#save as new file\n",
    "f_res['FE'].hist(bins=30)\n",
    "f_res\n",
    "f_res.reset_index(inplace=True, drop=True)\n",
    "f_res.drop(['FE', 'bin'], axis=1, inplace=True)\n",
    "f_res.to_csv('./Wire/Mar12_haircut.csv', index=False)\n",
    "f_res"
   ]
  },
  {
   "cell_type": "code",
   "execution_count": null,
   "metadata": {},
   "outputs": [],
   "source": [
    "f = pd.read_csv('./Wire/Wire_Feb8.csv')\n",
    "f['i_total'] = f['CER']+f['HER']\n",
    "# identify outliers with interquartile range\n",
    "data = list(f['i_total'])\n",
    "from numpy import percentile\n",
    "q25, q75 = percentile(data, 25), percentile(data, 75)\n",
    "iqr = q75 - q25\n",
    "print('Percentiles: 25th=%.3f, 75th=%.3f, IQR=%.3f' % (q25, q75, iqr))\n",
    "# calculate the outlier cutoff\n",
    "cut_off = iqr * 2\n",
    "lower, upper = q25 - cut_off, q75 + cut_off\n",
    "# identify outliers\n",
    "outliers = [x < lower or x > upper for x in data]\n",
    "f['outlier'] = outliers\n",
    "f.head()\n",
    "f_out = f[f['outlier']]\n",
    "f_in = f[f['outlier'] == False]\n",
    "f_in.drop(['outlier', 'i_total'], axis=1, inplace=True)\n",
    "f_in\n",
    "f_in.to_csv('./Wire/Wire_Feb14_minusOutliers.csv', index=False)"
   ]
  },
  {
   "cell_type": "code",
   "execution_count": null,
   "metadata": {},
   "outputs": [],
   "source": [
    "import pickle\n",
    "with open('Yogi_Model/BO_results.pkl', 'rb') as f:\n",
    "    v = pickle.load(f)\n",
    "v"
   ]
  },
  {
   "cell_type": "code",
   "execution_count": null,
   "metadata": {},
   "outputs": [],
   "source": [
    "import pandas as pd\n",
    "f = pd.read_csv('CER_Planar_Sep21.csv')\n",
    "f['FE'] = f['CER']/(f['CER'] + f['HER'])\n",
    "f.describe()"
   ]
  },
  {
   "cell_type": "code",
   "execution_count": null,
   "metadata": {},
   "outputs": [],
   "source": []
  }
 ],
 "metadata": {
  "kernelspec": {
   "display_name": "Python 3",
   "language": "python",
   "name": "python3"
  },
  "language_info": {
   "codemirror_mode": {
    "name": "ipython",
    "version": 3
   },
   "file_extension": ".py",
   "mimetype": "text/x-python",
   "name": "python",
   "nbconvert_exporter": "python",
   "pygments_lexer": "ipython3",
   "version": "3.9.4"
  }
 },
 "nbformat": 4,
 "nbformat_minor": 2
}
